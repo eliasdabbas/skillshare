{
 "cells": [
  {
   "cell_type": "markdown",
   "metadata": {},
   "source": [
    "<img src=\"skillshare.png\" width=150>"
   ]
  },
  {
   "cell_type": "markdown",
   "metadata": {},
   "source": [
    "## Generate Search Engine Marketing Keywords with Python and advertools"
   ]
  },
  {
   "cell_type": "markdown",
   "metadata": {},
   "source": [
    "`advertools` is a Python package that provides a set of tools for online marketing productivity and analysis\n",
    "\n",
    "- Installation: `pip install advertools`\n",
    "- Code: [https://github.com/eliasdabbas/advertools](https://github.com/eliasdabbas/advertools)\n",
    "- Interactive version: [https://www.dashboardom.com/advertools](https://www.dashboardom.com/advertools)"
   ]
  },
  {
   "cell_type": "markdown",
   "metadata": {},
   "source": [
    "The Assignment: \n",
    "\n",
    "- Choose one or more of the following options\n",
    "- Brainstorm / research 5 or more words that might be searched for to look for your products\n",
    "- Put the list of words where they belong\n",
    "- Run the code to generate the required table\n",
    "- Take a screen shot and share on the project page"
   ]
  },
  {
   "cell_type": "markdown",
   "metadata": {},
   "source": [
    "### Option 1: Bank (banking products)\n",
    "\n",
    "Your client is a bank that is trying to generate leads. They are looking for people interested in getting credit cards, personal loans, and home loans. \n",
    "\n",
    "Generate a set of words that people might use to search for these topics"
   ]
  },
  {
   "cell_type": "code",
   "execution_count": null,
   "metadata": {},
   "outputs": [],
   "source": [
    "banking_products = [\n",
    "    'credit cards',\n",
    "    'personal loans',\n",
    "    'home loans'\n",
    "]\n",
    "\n",
    "banking_words = [\n",
    "    'enter',\n",
    "    'words',\n",
    "    'here',\n",
    "    'one',\n",
    "    'per',\n",
    "    'line'\n",
    "]"
   ]
  },
  {
   "cell_type": "code",
   "execution_count": null,
   "metadata": {},
   "outputs": [],
   "source": [
    "import advertools as adv\n",
    "\n",
    "adv.kw_generate(banking_products, banking_words)"
   ]
  },
  {
   "cell_type": "markdown",
   "metadata": {},
   "source": [
    "### Option 2: Travel website\n",
    "\n",
    "Your client manages a site that arranges trips in different destinations around the world. They are looking for people who want to go on a special adventure in one of those cities. Come up with a list of appropriate words. "
   ]
  },
  {
   "cell_type": "code",
   "execution_count": null,
   "metadata": {},
   "outputs": [],
   "source": [
    "travel_products = [\n",
    "    'istanbul',\n",
    "    'rio de janeiro',\n",
    "    'madrid'\n",
    "]\n",
    "\n",
    "travel_words = [\n",
    "    'enter',\n",
    "    'words',\n",
    "    'here',\n",
    "    'one',\n",
    "    'per',\n",
    "    'line'\n",
    "]"
   ]
  },
  {
   "cell_type": "code",
   "execution_count": null,
   "metadata": {},
   "outputs": [],
   "source": [
    "import advertools as adv\n",
    "\n",
    "adv.kw_generate(travel_products, travel_words)"
   ]
  },
  {
   "cell_type": "markdown",
   "metadata": {},
   "source": [
    "### Option 3: Real estate\n",
    "\n",
    "Your client rents apartments (only rent, and only apartments) in London. They are looking for people who want to live / stay in London. \n",
    "Come up with a list of relevant words and generate the required table."
   ]
  },
  {
   "cell_type": "code",
   "execution_count": null,
   "metadata": {},
   "outputs": [],
   "source": [
    "real_estate_products = [\n",
    "    'apartments',\n",
    "    'flats',\n",
    "    '1 bedroom',\n",
    "    '2 bedroom'\n",
    "]\n",
    "\n",
    "real_estate_words = [\n",
    "    'enter',\n",
    "    'words',\n",
    "    'here',\n",
    "    'one',\n",
    "    'per',\n",
    "    'line'\n",
    "]"
   ]
  },
  {
   "cell_type": "code",
   "execution_count": null,
   "metadata": {},
   "outputs": [],
   "source": [
    "import advertools as adv\n",
    "\n",
    "adv.kw_generate(real_estate_products, real_estate_words)"
   ]
  }
 ],
 "metadata": {
  "kernelspec": {
   "display_name": "Python 3",
   "language": "python",
   "name": "python3"
  },
  "language_info": {
   "codemirror_mode": {
    "name": "ipython",
    "version": 3
   },
   "file_extension": ".py",
   "mimetype": "text/x-python",
   "name": "python",
   "nbconvert_exporter": "python",
   "pygments_lexer": "ipython3",
   "version": "3.6.5"
  }
 },
 "nbformat": 4,
 "nbformat_minor": 2
}
